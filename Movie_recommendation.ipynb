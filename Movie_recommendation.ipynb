{
 "cells": [
  {
   "cell_type": "markdown",
   "id": "92cf1700",
   "metadata": {},
   "source": [
    "# Computational Linear Algebra\n",
    "### Getting movie recommendations with Singular Value Decomposition (SVD)\n",
    "Juan Camilo Sarmiento - Equinox - Plan Semilla - Data Science"
   ]
  },
  {
   "cell_type": "markdown",
   "id": "15719c67",
   "metadata": {},
   "source": [
    "Load movie data from npz files:"
   ]
  },
  {
   "cell_type": "code",
   "execution_count": 1,
   "id": "4b87165e",
   "metadata": {},
   "outputs": [
    {
     "name": "stdout",
     "output_type": "stream",
     "text": [
      "movie_titles.npz keys: ['titles']\n",
      "movie_recommend.npz keys: ['format', 'shape', 'data', 'row', 'col']\n"
     ]
    }
   ],
   "source": [
    "import numpy as np\n",
    "import os\n",
    "\n",
    "movie_titles_npz=np.load(os.path.join(os.getcwd(),\"Movies\",'movie_titles.npz'))\n",
    "movie_recommend_npz=np.load(os.path.join(os.getcwd(),\"Movies\",'movie_recommend.npz'))\n",
    "\n",
    "print(\"movie_titles.npz keys:\",movie_titles_npz.files)\n",
    "print(\"movie_recommend.npz keys:\",movie_recommend_npz.files)"
   ]
  },
  {
   "cell_type": "markdown",
   "id": "e2927799",
   "metadata": {},
   "source": [
    "Getting movie titles data:"
   ]
  },
  {
   "cell_type": "code",
   "execution_count": 2,
   "id": "1ba9f34e",
   "metadata": {},
   "outputs": [
    {
     "data": {
      "text/plain": [
       "((3706,),\n",
       " array([\"One Flew Over the Cuckoo's Nest (1975)\",\n",
       "        'James and the Giant Peach (1996)', 'My Fair Lady (1964)', ...,\n",
       "        'Far and Away (1992)', 'Texas Chainsaw Massacre, The (1974)',\n",
       "        'Contact (1997)'], dtype='<U75'))"
      ]
     },
     "execution_count": 2,
     "metadata": {},
     "output_type": "execute_result"
    }
   ],
   "source": [
    "title_array=movie_titles_npz[\"titles\"]\n",
    "title_array.shape,title_array"
   ]
  },
  {
   "cell_type": "markdown",
   "id": "746f8733",
   "metadata": {},
   "source": [
    "Getting movie recommend data:"
   ]
  },
  {
   "cell_type": "code",
   "execution_count": 3,
   "id": "caedfc8b",
   "metadata": {},
   "outputs": [
    {
     "data": {
      "text/plain": [
       "((), array('coo', dtype='<U3'))"
      ]
     },
     "execution_count": 3,
     "metadata": {},
     "output_type": "execute_result"
    }
   ],
   "source": [
    "format_array=movie_recommend_npz[\"format\"]\n",
    "format_array.shape,format_array"
   ]
  },
  {
   "cell_type": "code",
   "execution_count": 4,
   "id": "8193d0b5",
   "metadata": {},
   "outputs": [
    {
     "data": {
      "text/plain": [
       "((2,), array([6040, 3706]))"
      ]
     },
     "execution_count": 4,
     "metadata": {},
     "output_type": "execute_result"
    }
   ],
   "source": [
    "shape_array=movie_recommend_npz[\"shape\"]\n",
    "shape_array.shape,shape_array"
   ]
  },
  {
   "cell_type": "code",
   "execution_count": 5,
   "id": "587c94a7",
   "metadata": {},
   "outputs": [
    {
     "data": {
      "text/plain": [
       "((1000209,), array([5, 5, 5, ..., 4, 4, 5], dtype=int8))"
      ]
     },
     "execution_count": 5,
     "metadata": {},
     "output_type": "execute_result"
    }
   ],
   "source": [
    "data_array=movie_recommend_npz[\"data\"]\n",
    "data_array.shape,data_array"
   ]
  },
  {
   "cell_type": "code",
   "execution_count": 6,
   "id": "f4fa2f30",
   "metadata": {},
   "outputs": [
    {
     "data": {
      "text/plain": [
       "((1000209,), array([   0,    0,    0, ..., 6039, 6039, 6039]))"
      ]
     },
     "execution_count": 6,
     "metadata": {},
     "output_type": "execute_result"
    }
   ],
   "source": [
    "row_array=movie_recommend_npz[\"row\"]\n",
    "row_array.shape,row_array"
   ]
  },
  {
   "cell_type": "code",
   "execution_count": 7,
   "id": "90bed669",
   "metadata": {},
   "outputs": [
    {
     "data": {
      "text/plain": [
       "((1000209,), array([   0,   47,  144, ..., 3493, 3508, 3575]))"
      ]
     },
     "execution_count": 7,
     "metadata": {},
     "output_type": "execute_result"
    }
   ],
   "source": [
    "col_array=movie_recommend_npz[\"col\"]\n",
    "col_array.shape,col_array"
   ]
  },
  {
   "cell_type": "code",
   "execution_count": 8,
   "id": "ea72fa59",
   "metadata": {},
   "outputs": [
    {
     "data": {
      "text/plain": [
       "<6040x3706 sparse matrix of type '<class 'numpy.int8'>'\n",
       "\twith 1000209 stored elements in COOrdinate format>"
      ]
     },
     "execution_count": 8,
     "metadata": {},
     "output_type": "execute_result"
    }
   ],
   "source": [
    "import scipy\n",
    "sparse_matrix=scipy.sparse.load_npz(os.path.join(os.getcwd(),\"Movies\",'movie_recommend.npz'))\n",
    "sparse_matrix"
   ]
  },
  {
   "cell_type": "code",
   "execution_count": 9,
   "id": "6eef4df2",
   "metadata": {},
   "outputs": [
    {
     "data": {
      "text/plain": [
       "((6040, 3706),\n",
       " array([[5, 0, 0, ..., 0, 0, 0],\n",
       "        [0, 0, 0, ..., 0, 0, 0],\n",
       "        [0, 0, 0, ..., 0, 0, 0],\n",
       "        ...,\n",
       "        [0, 0, 0, ..., 0, 0, 0],\n",
       "        [0, 0, 0, ..., 0, 0, 0],\n",
       "        [3, 0, 0, ..., 0, 0, 0]], dtype=int8))"
      ]
     },
     "execution_count": 9,
     "metadata": {},
     "output_type": "execute_result"
    }
   ],
   "source": [
    "sparse_matrix = sparse_matrix.toarray()\n",
    "sparse_matrix.shape,sparse_matrix"
   ]
  },
  {
   "cell_type": "markdown",
   "id": "09ac6180",
   "metadata": {},
   "source": [
    "Now onto the movie recommendation system:"
   ]
  },
  {
   "cell_type": "code",
   "execution_count": 33,
   "id": "8503fe08",
   "metadata": {},
   "outputs": [
    {
     "name": "stdout",
     "output_type": "stream",
     "text": [
      "Top 3 movies for user 0:\n",
      "Bug's Life, A (1998)\n",
      "Sound of Music, The (1965)\n",
      "Miracle on 34th Street (1947)\n",
      "Top 3 movies for user 1:\n",
      "Airplane! (1980)\n",
      "Bambi (1942)\n",
      "Wallace & Gromit: The Best of Aardman Animation (1996)\n",
      "Top 3 movies for user 2:\n",
      "Bug's Life, A (1998)\n",
      "Girl, Interrupted (1999)\n",
      "Star Wars: Episode I - The Phantom Menace (1999)\n"
     ]
    }
   ],
   "source": [
    "def recommender(matrix,percent):\n",
    "    matrix=matrix.astype(np.float64)\n",
    "    U,S,V=np.linalg.svd(matrix,full_matrices=False)\n",
    "    S=np.diag(S)\n",
    "    i=int(S.shape[0]*percent)\n",
    "    recommender_mtx=np.matmul(U[:,:i],np.matmul(S[:i,:i],V[:i,:]))\n",
    "    return recommender_mtx,U,S,V\n",
    "\n",
    "def recommend(usr_codes,recommend_qty,titles,sparse_mtx):\n",
    "    ratings,_,_,V=recommender(sparse_mtx,0.3)\n",
    "    scores = np.dot(ratings[usr_codes], V.T)\n",
    "    ranking_indx=np.argsort(-scores,axis=1)\n",
    "    recommendations=[]\n",
    "    for i in range(len(usr_codes)):\n",
    "        recommended=titles[ranking_indx[i,:recommend_qty]]\n",
    "        print(f\"Top {recommend_qty} movies for user {usr_codes[i]}:\")\n",
    "        for movie in recommended:\n",
    "            print(movie)\n",
    "        recommendations.append((usr_codes[i],recommended))\n",
    "    return recommendations\n",
    "    \n",
    "    \n",
    "recommendations=recommend([0,1,2],3,title_array,sparse_matrix)"
   ]
  },
  {
   "cell_type": "code",
   "execution_count": null,
   "id": "68b4cb2a",
   "metadata": {},
   "outputs": [],
   "source": []
  }
 ],
 "metadata": {
  "kernelspec": {
   "display_name": "venv_data_science",
   "language": "python",
   "name": "python3"
  },
  "language_info": {
   "codemirror_mode": {
    "name": "ipython",
    "version": 3
   },
   "file_extension": ".py",
   "mimetype": "text/x-python",
   "name": "python",
   "nbconvert_exporter": "python",
   "pygments_lexer": "ipython3",
   "version": "3.10.10"
  },
  "vscode": {
   "interpreter": {
    "hash": "03a634e9e98b7cf19536083b730b9bcb8557c3d4281cc8ceb3cbd4e1b771551c"
   }
  }
 },
 "nbformat": 4,
 "nbformat_minor": 5
}
